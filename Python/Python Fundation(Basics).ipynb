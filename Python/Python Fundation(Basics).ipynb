{
 "cells": [
  {
   "cell_type": "code",
   "execution_count": null,
   "id": "31d737d2",
   "metadata": {},
   "outputs": [],
   "source": [
    "#Difference Between Method And A Function(Method Is Use In A Class, Function Is Use Independent Of A Class)"
   ]
  },
  {
   "cell_type": "code",
   "execution_count": 5,
   "id": "dd54612e",
   "metadata": {},
   "outputs": [
    {
     "name": "stdout",
     "output_type": "stream",
     "text": [
      "<class 'dict'>\n"
     ]
    }
   ],
   "source": [
    "#Each Data Types Are Classes With Their Own Methods\n",
    "\n",
    "lis = []\n",
    "\n",
    "ma = \"Man in uniform\"\n",
    "\n",
    "num = 234\n",
    "\n",
    "flo = 2.3\n",
    "\n",
    "dic = {}\n",
    "\n",
    "\n",
    "\n",
    "\n",
    "\n",
    "print(type(dic))"
   ]
  },
  {
   "cell_type": "code",
   "execution_count": 12,
   "id": "f084ce8e",
   "metadata": {},
   "outputs": [
    {
     "data": {
      "text/plain": [
       "str"
      ]
     },
     "execution_count": 12,
     "metadata": {},
     "output_type": "execute_result"
    }
   ],
   "source": [
    "type(ma)"
   ]
  },
  {
   "cell_type": "code",
   "execution_count": 13,
   "id": "69b37759",
   "metadata": {},
   "outputs": [
    {
     "data": {
      "text/plain": [
       "85"
      ]
     },
     "execution_count": 13,
     "metadata": {},
     "output_type": "execute_result"
    }
   ],
   "source": [
    "sum((34,45,6))"
   ]
  },
  {
   "cell_type": "code",
   "execution_count": 16,
   "id": "d86996e8",
   "metadata": {},
   "outputs": [
    {
     "name": "stdout",
     "output_type": "stream",
     "text": [
      "['M', 'a', 'n', ' ', 'i', 'n', ' ', 'u', 'n', 'i', 'f', 'o', 'r', 'm']\n"
     ]
    }
   ],
   "source": [
    "new = list(ma)\n",
    "print(new)"
   ]
  },
  {
   "cell_type": "code",
   "execution_count": 24,
   "id": "3c3801d9",
   "metadata": {},
   "outputs": [
    {
     "name": "stdout",
     "output_type": "stream",
     "text": [
      "('M', 'a', 'n', ' ', 'i', 'n', ' ', 'u', 'n', 'i', 'f', 'o', 'r', 'm')\n"
     ]
    }
   ],
   "source": [
    "tup = tuple(new)\n",
    "print(tup)"
   ]
  },
  {
   "cell_type": "code",
   "execution_count": 21,
   "id": "a6fa1e7a",
   "metadata": {},
   "outputs": [
    {
     "name": "stdout",
     "output_type": "stream",
     "text": [
      "234\n"
     ]
    }
   ],
   "source": [
    "new_num = str(num)\n",
    "print(new_num)"
   ]
  },
  {
   "cell_type": "code",
   "execution_count": 22,
   "id": "4968f6cf",
   "metadata": {},
   "outputs": [
    {
     "data": {
      "text/plain": [
       "['2', '3', '4']"
      ]
     },
     "execution_count": 22,
     "metadata": {},
     "output_type": "execute_result"
    }
   ],
   "source": [
    "list(new_num)"
   ]
  },
  {
   "cell_type": "code",
   "execution_count": 31,
   "id": "ab69910e",
   "metadata": {},
   "outputs": [
    {
     "data": {
      "text/plain": [
       "{' ', 'M', 'a', 'f', 'i', 'm', 'n', 'o', 'r', 'u'}"
      ]
     },
     "execution_count": 31,
     "metadata": {},
     "output_type": "execute_result"
    }
   ],
   "source": [
    "set(new)"
   ]
  },
  {
   "cell_type": "code",
   "execution_count": 36,
   "id": "017c53b1",
   "metadata": {},
   "outputs": [],
   "source": [
    "se = set()"
   ]
  },
  {
   "cell_type": "code",
   "execution_count": 33,
   "id": "c748d22d",
   "metadata": {},
   "outputs": [
    {
     "data": {
      "text/plain": [
       "set"
      ]
     },
     "execution_count": 33,
     "metadata": {},
     "output_type": "execute_result"
    }
   ],
   "source": [
    "type(se)"
   ]
  },
  {
   "cell_type": "code",
   "execution_count": 42,
   "id": "571e279f",
   "metadata": {},
   "outputs": [],
   "source": [
    "#\"the man\", 34, 6, [], h"
   ]
  },
  {
   "cell_type": "code",
   "execution_count": 46,
   "id": "484f05ed",
   "metadata": {},
   "outputs": [
    {
     "data": {
      "text/plain": [
       "36"
      ]
     },
     "execution_count": 46,
     "metadata": {},
     "output_type": "execute_result"
    }
   ],
   "source": [
    "6*6"
   ]
  },
  {
   "cell_type": "code",
   "execution_count": 47,
   "id": "f9340885",
   "metadata": {},
   "outputs": [],
   "source": [
    "#Major DataTypes In Python:\n",
    "#-Numbers[int & Float]\n",
    "#-Strings(str())\n",
    "#-Boolean(True , False)\n",
    "#-List([])------->Ordered,Mutable,Indexable Sequence Of Object\n",
    "#-Tuples(())------->Ordered,Immutable, Indexable Sequence Of Object\n",
    "#Sets (set())------->Ordered, Non-Repeated Sequence Of Object\n",
    "#Dictionary({})----->Unordered Mapping, Made Up Of 'Keys'&'Values'"
   ]
  },
  {
   "cell_type": "markdown",
   "id": "2dbf18f5",
   "metadata": {},
   "source": [
    "## Numbers"
   ]
  },
  {
   "cell_type": "markdown",
   "id": "6b24b957",
   "metadata": {},
   "source": [
    "##### Integers(int)"
   ]
  },
  {
   "cell_type": "code",
   "execution_count": 48,
   "id": "749eb27e",
   "metadata": {},
   "outputs": [
    {
     "data": {
      "text/plain": [
       "int"
      ]
     },
     "execution_count": 48,
     "metadata": {},
     "output_type": "execute_result"
    }
   ],
   "source": [
    "type(25)"
   ]
  },
  {
   "cell_type": "code",
   "execution_count": 49,
   "id": "6adf5dce",
   "metadata": {},
   "outputs": [],
   "source": [
    "num = 30"
   ]
  },
  {
   "cell_type": "code",
   "execution_count": 50,
   "id": "b5876b5e",
   "metadata": {},
   "outputs": [
    {
     "data": {
      "text/plain": [
       "123"
      ]
     },
     "execution_count": 50,
     "metadata": {},
     "output_type": "execute_result"
    }
   ],
   "source": [
    "int(\"123\")#Type Casting"
   ]
  },
  {
   "cell_type": "markdown",
   "id": "978c8641",
   "metadata": {},
   "source": [
    "##### Floats(float())"
   ]
  },
  {
   "cell_type": "code",
   "execution_count": 52,
   "id": "db864b67",
   "metadata": {},
   "outputs": [
    {
     "data": {
      "text/plain": [
       "float"
      ]
     },
     "execution_count": 52,
     "metadata": {},
     "output_type": "execute_result"
    }
   ],
   "source": [
    "type(1.24)"
   ]
  },
  {
   "cell_type": "code",
   "execution_count": 54,
   "id": "70a56598",
   "metadata": {},
   "outputs": [
    {
     "data": {
      "text/plain": [
       "2.97"
      ]
     },
     "execution_count": 54,
     "metadata": {},
     "output_type": "execute_result"
    }
   ],
   "source": [
    "float(\"2.97\")#Type Casting"
   ]
  },
  {
   "cell_type": "code",
   "execution_count": null,
   "id": "3e14f3ee",
   "metadata": {},
   "outputs": [],
   "source": []
  },
  {
   "cell_type": "markdown",
   "id": "cb1c2cd5",
   "metadata": {},
   "source": [
    "### Arithmetic Operators and Expressions"
   ]
  },
  {
   "cell_type": "markdown",
   "id": "27ed2e63",
   "metadata": {},
   "source": [
    "###### Addition"
   ]
  },
  {
   "cell_type": "code",
   "execution_count": 51,
   "id": "2dfa251a",
   "metadata": {},
   "outputs": [
    {
     "data": {
      "text/plain": [
       "84"
      ]
     },
     "execution_count": 51,
     "metadata": {},
     "output_type": "execute_result"
    }
   ],
   "source": [
    "34+50"
   ]
  },
  {
   "cell_type": "code",
   "execution_count": 55,
   "id": "66d62587",
   "metadata": {},
   "outputs": [
    {
     "data": {
      "text/plain": [
       "5"
      ]
     },
     "execution_count": 55,
     "metadata": {},
     "output_type": "execute_result"
    }
   ],
   "source": [
    "1+4"
   ]
  },
  {
   "cell_type": "code",
   "execution_count": 56,
   "id": "97c4f4c8",
   "metadata": {},
   "outputs": [
    {
     "data": {
      "text/plain": [
       "106"
      ]
     },
     "execution_count": 56,
     "metadata": {},
     "output_type": "execute_result"
    }
   ],
   "source": [
    "num1 = 15\n",
    "num2 = 91\n",
    "\n",
    "num1+num2"
   ]
  },
  {
   "cell_type": "code",
   "execution_count": 57,
   "id": "96d550c3",
   "metadata": {},
   "outputs": [
    {
     "data": {
      "text/plain": [
       "87"
      ]
     },
     "execution_count": 57,
     "metadata": {},
     "output_type": "execute_result"
    }
   ],
   "source": [
    "num3, num4 = 82, 5\n",
    "\n",
    "num3+num4"
   ]
  },
  {
   "cell_type": "markdown",
   "id": "7a03297c",
   "metadata": {},
   "source": [
    "##### Subtraction"
   ]
  },
  {
   "cell_type": "code",
   "execution_count": null,
   "id": "55c9cc76",
   "metadata": {},
   "outputs": [],
   "source": []
  }
 ],
 "metadata": {
  "kernelspec": {
   "display_name": "Python 3 (ipykernel)",
   "language": "python",
   "name": "python3"
  },
  "language_info": {
   "codemirror_mode": {
    "name": "ipython",
    "version": 3
   },
   "file_extension": ".py",
   "mimetype": "text/x-python",
   "name": "python",
   "nbconvert_exporter": "python",
   "pygments_lexer": "ipython3",
   "version": "3.9.7"
  }
 },
 "nbformat": 4,
 "nbformat_minor": 5
}
