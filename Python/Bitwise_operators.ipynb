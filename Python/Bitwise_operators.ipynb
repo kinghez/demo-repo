{
 "cells": [
  {
   "cell_type": "code",
   "execution_count": 76,
   "id": "5e4864eb",
   "metadata": {},
   "outputs": [
    {
     "name": "stdout",
     "output_type": "stream",
     "text": [
      "7\n"
     ]
    }
   ],
   "source": [
    "x = 10\n",
    "\n",
    "x |= 3\n",
    "\n",
    "print(x)"
   ]
  },
  {
   "cell_type": "code",
   "execution_count": 3,
   "id": "4fec3d22",
   "metadata": {},
   "outputs": [
    {
     "data": {
      "text/plain": [
       "'0b101'"
      ]
     },
     "execution_count": 3,
     "metadata": {},
     "output_type": "execute_result"
    }
   ],
   "source": [
    "bin(5)"
   ]
  },
  {
   "cell_type": "code",
   "execution_count": 23,
   "id": "8c47119b",
   "metadata": {},
   "outputs": [],
   "source": [
    "def Floor_div(x):\n",
    "    res = x // 2\n",
    "    return res"
   ]
  },
  {
   "cell_type": "code",
   "execution_count": 24,
   "id": "b11eec3b",
   "metadata": {},
   "outputs": [
    {
     "data": {
      "text/plain": [
       "2"
      ]
     },
     "execution_count": 24,
     "metadata": {},
     "output_type": "execute_result"
    }
   ],
   "source": [
    "Floor_div(5)"
   ]
  },
  {
   "cell_type": "code",
   "execution_count": 64,
   "id": "6108eba6",
   "metadata": {},
   "outputs": [
    {
     "name": "stdout",
     "output_type": "stream",
     "text": [
      "3\n",
      "================RESULT====================\n",
      "1\n",
      "1\n"
     ]
    }
   ],
   "source": [
    "def Deci_To_Bin(num):\n",
    "    if num >= 1:\n",
    "        Deci_To_Bin(num // 2)\n",
    "        print(num % 2)\n",
    "        \n",
    "def final_res():\n",
    "    x = input()\n",
    "    print(\"================RESULT====================\")\n",
    "    Deci_To_Bin(int(x))\n",
    "    \n",
    "    \n",
    "final_res()\n",
    "                      "
   ]
  },
  {
   "cell_type": "code",
   "execution_count": 65,
   "id": "c70a2c39",
   "metadata": {},
   "outputs": [],
   "source": [
    "101 | 11 = 111"
   ]
  },
  {
   "cell_type": "code",
   "execution_count": 68,
   "id": "6c54c1f7",
   "metadata": {},
   "outputs": [],
   "source": [
    "def binaryToDecimal(binary):\n",
    " \n",
    "    decimal, i = 0, 0\n",
    "    while(binary != 0):\n",
    "        dec = binary % 10\n",
    "        decimal = decimal + dec * pow(2, i)\n",
    "        binary = binary//10\n",
    "        i += 1\n",
    "    print(decimal)"
   ]
  },
  {
   "cell_type": "code",
   "execution_count": 73,
   "id": "f14b68c7",
   "metadata": {
    "scrolled": true
   },
   "outputs": [
    {
     "name": "stdout",
     "output_type": "stream",
     "text": [
      "7\n"
     ]
    }
   ],
   "source": [
    "binaryToDecimal(111)"
   ]
  },
  {
   "cell_type": "code",
   "execution_count": 83,
   "id": "7663924f",
   "metadata": {},
   "outputs": [],
   "source": [
    "my_df = 4, 5"
   ]
  },
  {
   "cell_type": "code",
   "execution_count": 84,
   "id": "f0c7e5e3",
   "metadata": {},
   "outputs": [
    {
     "name": "stdout",
     "output_type": "stream",
     "text": [
      "(4, 5)\n"
     ]
    }
   ],
   "source": [
    "print(my_df)"
   ]
  },
  {
   "cell_type": "code",
   "execution_count": 85,
   "id": "a9d918f1",
   "metadata": {},
   "outputs": [
    {
     "name": "stdout",
     "output_type": "stream",
     "text": [
      "Orange\n",
      "Orange\n",
      "Orange\n"
     ]
    }
   ],
   "source": [
    "x = y = z = \"Orange\"\n",
    "print(x)\n",
    "print(y)\n",
    "print(z)"
   ]
  },
  {
   "cell_type": "code",
   "execution_count": 88,
   "id": "6b66ed5a",
   "metadata": {},
   "outputs": [
    {
     "name": "stdout",
     "output_type": "stream",
     "text": [
      "apple\n",
      "banana\n",
      "cherry\n"
     ]
    }
   ],
   "source": [
    "fruits = [\"apple\", \"banana\", \"cherry\"]\n",
    "x, y, z = fruits\n",
    "print(x)\n",
    "print(y)\n",
    "print(z)"
   ]
  },
  {
   "cell_type": "code",
   "execution_count": 90,
   "id": "72fa5bea",
   "metadata": {},
   "outputs": [
    {
     "name": "stdout",
     "output_type": "stream",
     "text": [
      "5 John\n"
     ]
    }
   ],
   "source": [
    "x = 5\n",
    "y = \"John\"\n",
    "print(x, y)"
   ]
  },
  {
   "cell_type": "code",
   "execution_count": 100,
   "id": "647e45cc",
   "metadata": {},
   "outputs": [
    {
     "name": "stdout",
     "output_type": "stream",
     "text": [
      "fantastic\n"
     ]
    }
   ],
   "source": [
    "n = \"Match\"\n",
    "def myfunc():\n",
    "    global m \n",
    "    m = \"fantastic\"\n",
    "    #print(\"Python is \" + x)\n",
    "    \n",
    "myfunc()\n",
    "\n",
    "print(m)"
   ]
  },
  {
   "cell_type": "code",
   "execution_count": null,
   "id": "6acdbe5d",
   "metadata": {},
   "outputs": [],
   "source": [
    "def myfunc():\n",
    "    global x\n",
    "    x = \"fantastic\"\n",
    "\n",
    "myfunc()\n",
    "\n",
    "print(\"Python is \" + x)"
   ]
  },
  {
   "cell_type": "code",
   "execution_count": 101,
   "id": "dc43f388",
   "metadata": {},
   "outputs": [
    {
     "name": "stdout",
     "output_type": "stream",
     "text": [
      "<class 'int'>\n",
      "<class 'int'>\n",
      "<class 'int'>\n"
     ]
    }
   ],
   "source": [
    "x = 1\n",
    "y = 35656222554887711\n",
    "z = -3255522\n",
    "\n",
    "print(type(x))\n",
    "print(type(y))\n",
    "print(type(z))"
   ]
  },
  {
   "cell_type": "code",
   "execution_count": 102,
   "id": "6a2ec256",
   "metadata": {},
   "outputs": [
    {
     "name": "stdout",
     "output_type": "stream",
     "text": [
      "(2+0j)\n"
     ]
    }
   ],
   "source": [
    "x = 2\n",
    "\n",
    "p = complex(x)\n",
    "\n",
    "print(p)"
   ]
  },
  {
   "cell_type": "code",
   "execution_count": 103,
   "id": "ca914dde",
   "metadata": {},
   "outputs": [
    {
     "data": {
      "text/plain": [
       "'7'"
      ]
     },
     "execution_count": 103,
     "metadata": {},
     "output_type": "execute_result"
    }
   ],
   "source": [
    "str(7)"
   ]
  },
  {
   "cell_type": "code",
   "execution_count": 110,
   "id": "ef60ba22",
   "metadata": {},
   "outputs": [],
   "source": [
    "a = 234568"
   ]
  },
  {
   "cell_type": "code",
   "execution_count": 111,
   "id": "baa16a28",
   "metadata": {},
   "outputs": [],
   "source": [
    "b = str(a)"
   ]
  },
  {
   "cell_type": "code",
   "execution_count": 113,
   "id": "4e91e9f0",
   "metadata": {},
   "outputs": [
    {
     "name": "stdout",
     "output_type": "stream",
     "text": [
      "2345\n"
     ]
    }
   ],
   "source": [
    "print(b[:4])"
   ]
  },
  {
   "cell_type": "code",
   "execution_count": 114,
   "id": "091a1b72",
   "metadata": {},
   "outputs": [
    {
     "name": "stdout",
     "output_type": "stream",
     "text": [
      "True\n"
     ]
    }
   ],
   "source": [
    "txt = \"The best things in life are free!\"\n",
    "print(\"free\" in txt)"
   ]
  },
  {
   "cell_type": "code",
   "execution_count": 118,
   "id": "ef31269c",
   "metadata": {},
   "outputs": [
    {
     "name": "stdout",
     "output_type": "stream",
     "text": [
      "0\n"
     ]
    }
   ],
   "source": [
    "print(b.index(\"2\"))"
   ]
  },
  {
   "cell_type": "code",
   "execution_count": 123,
   "id": "f865a3de",
   "metadata": {},
   "outputs": [
    {
     "name": "stdout",
     "output_type": "stream",
     "text": [
      "rld\n"
     ]
    }
   ],
   "source": [
    "d = \" Hello, World! \"\n",
    "print(d[-5:-2])"
   ]
  },
  {
   "cell_type": "code",
   "execution_count": 124,
   "id": "cb9439a5",
   "metadata": {},
   "outputs": [
    {
     "name": "stdout",
     "output_type": "stream",
     "text": [
      "Hello, World!\n"
     ]
    }
   ],
   "source": [
    "print(d.strip())"
   ]
  },
  {
   "cell_type": "code",
   "execution_count": 125,
   "id": "86f0f7f2",
   "metadata": {},
   "outputs": [
    {
     "name": "stdout",
     "output_type": "stream",
     "text": [
      " Yello, World! \n"
     ]
    }
   ],
   "source": [
    "print(d.replace(\"H\", \"Y\"))"
   ]
  },
  {
   "cell_type": "code",
   "execution_count": 128,
   "id": "d4a7ccf2",
   "metadata": {},
   "outputs": [
    {
     "name": "stdout",
     "output_type": "stream",
     "text": [
      " Welcome To The, World! \n"
     ]
    }
   ],
   "source": [
    "print(d.replace(\"Hello\", \"Welcome To The\"))"
   ]
  },
  {
   "cell_type": "code",
   "execution_count": 131,
   "id": "bc40a16c",
   "metadata": {},
   "outputs": [
    {
     "name": "stdout",
     "output_type": "stream",
     "text": [
      "3\n"
     ]
    }
   ],
   "source": [
    "print(d.count(\"l\"))"
   ]
  },
  {
   "cell_type": "code",
   "execution_count": 133,
   "id": "ce3764a8",
   "metadata": {},
   "outputs": [
    {
     "name": "stdout",
     "output_type": "stream",
     "text": [
      "b' Hello, World! '\n"
     ]
    }
   ],
   "source": [
    "print(d.encode())"
   ]
  },
  {
   "cell_type": "code",
   "execution_count": 134,
   "id": "d651f8de",
   "metadata": {},
   "outputs": [
    {
     "name": "stdout",
     "output_type": "stream",
     "text": [
      "[' Hello', ' World! ']\n"
     ]
    }
   ],
   "source": [
    "print(d.split(\",\"))"
   ]
  },
  {
   "cell_type": "code",
   "execution_count": 145,
   "id": "be05fb04",
   "metadata": {},
   "outputs": [],
   "source": [
    "f = \"The Balance Could Have Exceeded, But I Just Let It Go. It A Peaceful one, I know I Could. Never Mind! Just Japping,\""
   ]
  },
  {
   "cell_type": "code",
   "execution_count": 146,
   "id": "70e167aa",
   "metadata": {},
   "outputs": [
    {
     "name": "stdout",
     "output_type": "stream",
     "text": [
      "['The', 'Balance', 'Could', 'Have', 'Exceeded,', 'But', 'I', 'Just', 'Let', 'It', 'Go.', 'It', 'A', 'Peaceful', 'one,', 'I', 'know', 'I', 'Could.', 'Never', 'Mind!', 'Just', 'Japping,']\n"
     ]
    }
   ],
   "source": [
    "j = f.split(\" \")\n",
    "\n",
    "print(j)"
   ]
  },
  {
   "cell_type": "code",
   "execution_count": 158,
   "id": "04adb889",
   "metadata": {},
   "outputs": [
    {
     "name": "stdout",
     "output_type": "stream",
     "text": [
      "The Balance Could Have Exceeded, But I Just Let It Go. It A Peaceful one, I know I Could. Never Mind! Just Japping,\n"
     ]
    }
   ],
   "source": [
    "print(\" \".join(j))"
   ]
  },
  {
   "cell_type": "code",
   "execution_count": 159,
   "id": "2ea93ebb",
   "metadata": {},
   "outputs": [
    {
     "name": "stdout",
     "output_type": "stream",
     "text": [
      "We are the so-called \"Vikings\" from the north.\n"
     ]
    }
   ],
   "source": [
    "txt = \"We are the so-called \\\"Vikings\\\" from the north.\"\n",
    "\n",
    "print(txt)"
   ]
  },
  {
   "cell_type": "code",
   "execution_count": 160,
   "id": "26f3353e",
   "metadata": {},
   "outputs": [
    {
     "data": {
      "text/plain": [
       "False"
      ]
     },
     "execution_count": 160,
     "metadata": {},
     "output_type": "execute_result"
    }
   ],
   "source": [
    "a = 200\n",
    "b = 33\n",
    "\n",
    "b > a"
   ]
  },
  {
   "cell_type": "code",
   "execution_count": 167,
   "id": "be811cb2",
   "metadata": {},
   "outputs": [
    {
     "name": "stdout",
     "output_type": "stream",
     "text": [
      "banana\n"
     ]
    }
   ],
   "source": [
    "thislist = [\"apple\", \"banana\", \"cherry\"]\n",
    "print(thislist[1])"
   ]
  },
  {
   "cell_type": "code",
   "execution_count": 168,
   "id": "a30b7dac",
   "metadata": {},
   "outputs": [
    {
     "name": "stdout",
     "output_type": "stream",
     "text": [
      "61.0\n"
     ]
    }
   ],
   "source": [
    "import numpy\n",
    "\n",
    "ages = [5,31,43,48,50,41,7,11,15,39,80,82,32,2,8,6,25,36,27,61,31]\n",
    "\n",
    "x = numpy.percentile(ages, 90)\n",
    "\n",
    "print(x)"
   ]
  },
  {
   "cell_type": "code",
   "execution_count": null,
   "id": "0630dfcc",
   "metadata": {},
   "outputs": [],
   "source": []
  }
 ],
 "metadata": {
  "kernelspec": {
   "display_name": "Python 3 (ipykernel)",
   "language": "python",
   "name": "python3"
  },
  "language_info": {
   "codemirror_mode": {
    "name": "ipython",
    "version": 3
   },
   "file_extension": ".py",
   "mimetype": "text/x-python",
   "name": "python",
   "nbconvert_exporter": "python",
   "pygments_lexer": "ipython3",
   "version": "3.9.7"
  }
 },
 "nbformat": 4,
 "nbformat_minor": 5
}
